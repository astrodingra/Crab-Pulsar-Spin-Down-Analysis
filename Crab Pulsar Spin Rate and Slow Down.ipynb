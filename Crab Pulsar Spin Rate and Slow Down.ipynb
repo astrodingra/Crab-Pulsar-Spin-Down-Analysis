{
 "cells": [
  {
   "cell_type": "markdown",
   "id": "7fcbe7ea-fd0f-42c0-be38-5f6ae51c509b",
   "metadata": {},
   "source": [
    "# Crab Pulsar Spin Rate and Slow Down Rate\n",
    "#### Problem : How much the Crab pulsar has slowed down since launch of AstroSat? Finding rate of spin down rate of Crab pulsar with AstroSat LAXPC and CZTI observations.\n",
    "<small><b>CREDIT: [JASHANPREET SINGH DINGRA](https://astrodingra.github.io) | ISRO DATA ARCHIVE</b></small>"
   ]
  },
  {
   "cell_type": "markdown",
   "id": "2efcf8ac-a651-4566-80ac-d45c5eb50832",
   "metadata": {},
   "source": [
    "\n",
    "<small><li>Data Collection : <b style=\" color:blue\">https://astrobrowse.issdc.gov.in/astro_archive/archive/Search.jsp</b></li></smal>"
   ]
  },
  {
   "cell_type": "markdown",
   "id": "97a282ec-9780-4dea-b29f-6b7b427a84bb",
   "metadata": {},
   "source": [
    "---"
   ]
  },
  {
   "cell_type": "code",
   "execution_count": 1,
   "id": "330b257c-46c5-493b-a2f1-19c3b6a9d2ed",
   "metadata": {},
   "outputs": [],
   "source": [
    "# importing useful Libraries\n",
    "from astropy.io import fits \n",
    "import numpy as np\n",
    "import matplotlib.pyplot as plt"
   ]
  },
  {
   "cell_type": "code",
   "execution_count": 2,
   "id": "0d6739a0-b7f5-4eb6-9a76-3448bea5f210",
   "metadata": {},
   "outputs": [
    {
     "ename": "FileNotFoundError",
     "evalue": "[Errno 2] No such file or directory: 'AS1A02_090T01_9000000778lxp3EA_level1.fits'",
     "output_type": "error",
     "traceback": [
      "\u001b[1;31m---------------------------------------------------------------------------\u001b[0m",
      "\u001b[1;31mFileNotFoundError\u001b[0m                         Traceback (most recent call last)",
      "Cell \u001b[1;32mIn[2], line 16\u001b[0m\n\u001b[0;32m     13\u001b[0m fits_file \u001b[38;5;241m=\u001b[39m \u001b[38;5;124m'\u001b[39m\u001b[38;5;124mAS1A02_090T01_9000000778lxp3EA_level1.fits\u001b[39m\u001b[38;5;124m'\u001b[39m\n\u001b[0;32m     15\u001b[0m \u001b[38;5;66;03m# Inspect the FITS file\u001b[39;00m\n\u001b[1;32m---> 16\u001b[0m inspect_fits_file(fits_file)\n",
      "Cell \u001b[1;32mIn[2], line 4\u001b[0m, in \u001b[0;36minspect_fits_file\u001b[1;34m(fits_file)\u001b[0m\n\u001b[0;32m      2\u001b[0m \u001b[38;5;28;01mdef\u001b[39;00m \u001b[38;5;21minspect_fits_file\u001b[39m(fits_file):\n\u001b[0;32m      3\u001b[0m     \u001b[38;5;66;03m# Open the FITS file\u001b[39;00m\n\u001b[1;32m----> 4\u001b[0m     \u001b[38;5;28;01mwith\u001b[39;00m fits\u001b[38;5;241m.\u001b[39mopen(fits_file) \u001b[38;5;28;01mas\u001b[39;00m hdul:\n\u001b[0;32m      5\u001b[0m         \u001b[38;5;66;03m# Print the FITS file structure\u001b[39;00m\n\u001b[0;32m      6\u001b[0m         hdul\u001b[38;5;241m.\u001b[39minfo()\n\u001b[0;32m      8\u001b[0m         \u001b[38;5;66;03m# Load the data table\u001b[39;00m\n",
      "File \u001b[1;32m~\\Anaconda-Jupyter\\Lib\\site-packages\\astropy\\io\\fits\\hdu\\hdulist.py:213\u001b[0m, in \u001b[0;36mfitsopen\u001b[1;34m(name, mode, memmap, save_backup, cache, lazy_load_hdus, ignore_missing_simple, use_fsspec, fsspec_kwargs, **kwargs)\u001b[0m\n\u001b[0;32m    210\u001b[0m \u001b[38;5;28;01mif\u001b[39;00m \u001b[38;5;129;01mnot\u001b[39;00m name:\n\u001b[0;32m    211\u001b[0m     \u001b[38;5;28;01mraise\u001b[39;00m \u001b[38;5;167;01mValueError\u001b[39;00m(\u001b[38;5;124mf\u001b[39m\u001b[38;5;124m\"\u001b[39m\u001b[38;5;124mEmpty filename: \u001b[39m\u001b[38;5;132;01m{\u001b[39;00mname\u001b[38;5;132;01m!r}\u001b[39;00m\u001b[38;5;124m\"\u001b[39m)\n\u001b[1;32m--> 213\u001b[0m \u001b[38;5;28;01mreturn\u001b[39;00m HDUList\u001b[38;5;241m.\u001b[39mfromfile(\n\u001b[0;32m    214\u001b[0m     name,\n\u001b[0;32m    215\u001b[0m     mode,\n\u001b[0;32m    216\u001b[0m     memmap,\n\u001b[0;32m    217\u001b[0m     save_backup,\n\u001b[0;32m    218\u001b[0m     cache,\n\u001b[0;32m    219\u001b[0m     lazy_load_hdus,\n\u001b[0;32m    220\u001b[0m     ignore_missing_simple,\n\u001b[0;32m    221\u001b[0m     use_fsspec\u001b[38;5;241m=\u001b[39muse_fsspec,\n\u001b[0;32m    222\u001b[0m     fsspec_kwargs\u001b[38;5;241m=\u001b[39mfsspec_kwargs,\n\u001b[0;32m    223\u001b[0m     \u001b[38;5;241m*\u001b[39m\u001b[38;5;241m*\u001b[39mkwargs,\n\u001b[0;32m    224\u001b[0m )\n",
      "File \u001b[1;32m~\\Anaconda-Jupyter\\Lib\\site-packages\\astropy\\io\\fits\\hdu\\hdulist.py:476\u001b[0m, in \u001b[0;36mHDUList.fromfile\u001b[1;34m(cls, fileobj, mode, memmap, save_backup, cache, lazy_load_hdus, ignore_missing_simple, **kwargs)\u001b[0m\n\u001b[0;32m    457\u001b[0m \u001b[38;5;129m@classmethod\u001b[39m\n\u001b[0;32m    458\u001b[0m \u001b[38;5;28;01mdef\u001b[39;00m \u001b[38;5;21mfromfile\u001b[39m(\n\u001b[0;32m    459\u001b[0m     \u001b[38;5;28mcls\u001b[39m,\n\u001b[1;32m   (...)\u001b[0m\n\u001b[0;32m    467\u001b[0m     \u001b[38;5;241m*\u001b[39m\u001b[38;5;241m*\u001b[39mkwargs,\n\u001b[0;32m    468\u001b[0m ):\n\u001b[0;32m    469\u001b[0m \u001b[38;5;250m    \u001b[39m\u001b[38;5;124;03m\"\"\"\u001b[39;00m\n\u001b[0;32m    470\u001b[0m \u001b[38;5;124;03m    Creates an `HDUList` instance from a file-like object.\u001b[39;00m\n\u001b[0;32m    471\u001b[0m \n\u001b[1;32m   (...)\u001b[0m\n\u001b[0;32m    474\u001b[0m \u001b[38;5;124;03m    documentation for details of the parameters accepted by this method).\u001b[39;00m\n\u001b[0;32m    475\u001b[0m \u001b[38;5;124;03m    \"\"\"\u001b[39;00m\n\u001b[1;32m--> 476\u001b[0m     \u001b[38;5;28;01mreturn\u001b[39;00m \u001b[38;5;28mcls\u001b[39m\u001b[38;5;241m.\u001b[39m_readfrom(\n\u001b[0;32m    477\u001b[0m         fileobj\u001b[38;5;241m=\u001b[39mfileobj,\n\u001b[0;32m    478\u001b[0m         mode\u001b[38;5;241m=\u001b[39mmode,\n\u001b[0;32m    479\u001b[0m         memmap\u001b[38;5;241m=\u001b[39mmemmap,\n\u001b[0;32m    480\u001b[0m         save_backup\u001b[38;5;241m=\u001b[39msave_backup,\n\u001b[0;32m    481\u001b[0m         cache\u001b[38;5;241m=\u001b[39mcache,\n\u001b[0;32m    482\u001b[0m         ignore_missing_simple\u001b[38;5;241m=\u001b[39mignore_missing_simple,\n\u001b[0;32m    483\u001b[0m         lazy_load_hdus\u001b[38;5;241m=\u001b[39mlazy_load_hdus,\n\u001b[0;32m    484\u001b[0m         \u001b[38;5;241m*\u001b[39m\u001b[38;5;241m*\u001b[39mkwargs,\n\u001b[0;32m    485\u001b[0m     )\n",
      "File \u001b[1;32m~\\Anaconda-Jupyter\\Lib\\site-packages\\astropy\\io\\fits\\hdu\\hdulist.py:1146\u001b[0m, in \u001b[0;36mHDUList._readfrom\u001b[1;34m(cls, fileobj, data, mode, memmap, cache, lazy_load_hdus, ignore_missing_simple, use_fsspec, fsspec_kwargs, **kwargs)\u001b[0m\n\u001b[0;32m   1143\u001b[0m \u001b[38;5;28;01mif\u001b[39;00m fileobj \u001b[38;5;129;01mis\u001b[39;00m \u001b[38;5;129;01mnot\u001b[39;00m \u001b[38;5;28;01mNone\u001b[39;00m:\n\u001b[0;32m   1144\u001b[0m     \u001b[38;5;28;01mif\u001b[39;00m \u001b[38;5;129;01mnot\u001b[39;00m \u001b[38;5;28misinstance\u001b[39m(fileobj, _File):\n\u001b[0;32m   1145\u001b[0m         \u001b[38;5;66;03m# instantiate a FITS file object (ffo)\u001b[39;00m\n\u001b[1;32m-> 1146\u001b[0m         fileobj \u001b[38;5;241m=\u001b[39m _File(\n\u001b[0;32m   1147\u001b[0m             fileobj,\n\u001b[0;32m   1148\u001b[0m             mode\u001b[38;5;241m=\u001b[39mmode,\n\u001b[0;32m   1149\u001b[0m             memmap\u001b[38;5;241m=\u001b[39mmemmap,\n\u001b[0;32m   1150\u001b[0m             cache\u001b[38;5;241m=\u001b[39mcache,\n\u001b[0;32m   1151\u001b[0m             use_fsspec\u001b[38;5;241m=\u001b[39muse_fsspec,\n\u001b[0;32m   1152\u001b[0m             fsspec_kwargs\u001b[38;5;241m=\u001b[39mfsspec_kwargs,\n\u001b[0;32m   1153\u001b[0m         )\n\u001b[0;32m   1154\u001b[0m     \u001b[38;5;66;03m# The Astropy mode is determined by the _File initializer if the\u001b[39;00m\n\u001b[0;32m   1155\u001b[0m     \u001b[38;5;66;03m# supplied mode was None\u001b[39;00m\n\u001b[0;32m   1156\u001b[0m     mode \u001b[38;5;241m=\u001b[39m fileobj\u001b[38;5;241m.\u001b[39mmode\n",
      "File \u001b[1;32m~\\Anaconda-Jupyter\\Lib\\site-packages\\astropy\\io\\fits\\file.py:217\u001b[0m, in \u001b[0;36m_File.__init__\u001b[1;34m(self, fileobj, mode, memmap, overwrite, cache, use_fsspec, fsspec_kwargs)\u001b[0m\n\u001b[0;32m    215\u001b[0m     \u001b[38;5;28mself\u001b[39m\u001b[38;5;241m.\u001b[39m_open_fileobj(fileobj, mode, overwrite)\n\u001b[0;32m    216\u001b[0m \u001b[38;5;28;01melif\u001b[39;00m \u001b[38;5;28misinstance\u001b[39m(fileobj, (\u001b[38;5;28mstr\u001b[39m, \u001b[38;5;28mbytes\u001b[39m)):\n\u001b[1;32m--> 217\u001b[0m     \u001b[38;5;28mself\u001b[39m\u001b[38;5;241m.\u001b[39m_open_filename(fileobj, mode, overwrite)\n\u001b[0;32m    218\u001b[0m \u001b[38;5;28;01melse\u001b[39;00m:\n\u001b[0;32m    219\u001b[0m     \u001b[38;5;28mself\u001b[39m\u001b[38;5;241m.\u001b[39m_open_filelike(fileobj, mode, overwrite)\n",
      "File \u001b[1;32m~\\Anaconda-Jupyter\\Lib\\site-packages\\astropy\\io\\fits\\file.py:626\u001b[0m, in \u001b[0;36m_File._open_filename\u001b[1;34m(self, filename, mode, overwrite)\u001b[0m\n\u001b[0;32m    623\u001b[0m ext \u001b[38;5;241m=\u001b[39m os\u001b[38;5;241m.\u001b[39mpath\u001b[38;5;241m.\u001b[39msplitext(\u001b[38;5;28mself\u001b[39m\u001b[38;5;241m.\u001b[39mname)[\u001b[38;5;241m1\u001b[39m]\n\u001b[0;32m    625\u001b[0m \u001b[38;5;28;01mif\u001b[39;00m \u001b[38;5;129;01mnot\u001b[39;00m \u001b[38;5;28mself\u001b[39m\u001b[38;5;241m.\u001b[39m_try_read_compressed(\u001b[38;5;28mself\u001b[39m\u001b[38;5;241m.\u001b[39mname, magic, mode, ext\u001b[38;5;241m=\u001b[39mext):\n\u001b[1;32m--> 626\u001b[0m     \u001b[38;5;28mself\u001b[39m\u001b[38;5;241m.\u001b[39m_file \u001b[38;5;241m=\u001b[39m \u001b[38;5;28mopen\u001b[39m(\u001b[38;5;28mself\u001b[39m\u001b[38;5;241m.\u001b[39mname, IO_FITS_MODES[mode])\n\u001b[0;32m    627\u001b[0m     \u001b[38;5;28mself\u001b[39m\u001b[38;5;241m.\u001b[39mclose_on_error \u001b[38;5;241m=\u001b[39m \u001b[38;5;28;01mTrue\u001b[39;00m\n\u001b[0;32m    629\u001b[0m \u001b[38;5;66;03m# Make certain we're back at the beginning of the file\u001b[39;00m\n\u001b[0;32m    630\u001b[0m \u001b[38;5;66;03m# BZ2File does not support seek when the file is open for writing, but\u001b[39;00m\n\u001b[0;32m    631\u001b[0m \u001b[38;5;66;03m# when opening a file for write, bz2.BZ2File always truncates anyway.\u001b[39;00m\n",
      "\u001b[1;31mFileNotFoundError\u001b[0m: [Errno 2] No such file or directory: 'AS1A02_090T01_9000000778lxp3EA_level1.fits'"
     ]
    }
   ],
   "source": [
    "# Function to load and inspect FITS file\n",
    "def inspect_fits_file(fits_file):\n",
    "    # Open the FITS file\n",
    "    with fits.open(fits_file) as hdul:\n",
    "        # Print the FITS file structure\n",
    "        hdul.info()\n",
    "\n",
    "        # Load the data table\n",
    "        data = hdul[1].data\n",
    "        print(\"\\nData Columns:\\n\", data.columns)\n",
    "        \n",
    "# assigning fits files \n",
    "fits_file = 'AS1A02_090T01_9000000778lxp3EA_level1.fits'\n",
    "\n",
    "# Inspect the FITS file\n",
    "inspect_fits_file(fits_file)\n"
   ]
  },
  {
   "cell_type": "code",
   "execution_count": null,
   "id": "b00f4e15-5f4f-45a3-86bd-720de33cf734",
   "metadata": {},
   "outputs": [],
   "source": [
    "# Function to load and inspect the TIME column from the FITS file\n",
    "def load_time_column(fits_file):\n",
    "    # Open the FITS file\n",
    "    with fits.open(fits_file) as hdul:\n",
    "        # Load the data table\n",
    "        data = hdul[1].data\n",
    "        # Extract the TIME column\n",
    "        arrival_times = data['TIME']\n",
    "    return arrival_times\n",
    "# Load the TIME column data\n",
    "arrival_times = load_time_column(fits_file)\n",
    "\n",
    "# Print a sample of the arrival times\n",
    "print(\"First 10 arrival times:\")\n",
    "print(arrival_times[:10])\n",
    "\n",
    "# If you want to see more arrival times, you can print more samples\n",
    "print(\"\\nFirst 50 arrival times:\")\n",
    "print(arrival_times[:50])\n",
    "\n",
    "# Sort the arrival times (just in case they are not sorted)\n",
    "arrival_times.sort()\n",
    "\n",
    "# Calculate spin periods by finding the difference between consecutive arrival times\n",
    "spin_periods = np.diff(arrival_times)\n",
    "\n",
    "# Print a sample of the calculated spin periods\n",
    "print(\"\\nFirst 10 spin periods:\")\n",
    "print(spin_periods[:10])\n",
    "\n",
    "# Plot the spin periods to visualize the spin rate\n",
    "plt.figure(figsize=(12, 5))\n",
    "\n",
    "# Plot 1: Spin periods against pulse number\n",
    "plt.subplot(1, 2, 1)\n",
    "plt.plot(spin_periods, 'b.')\n",
    "plt.xlabel('Pulse Number')\n",
    "plt.ylabel('Spin Period (s)')\n",
    "plt.title('Spin Period Evolution of Crab Pulsar (LAXPC)')\n",
    "\n",
    "# Plot 2: Spin periods against time\n",
    "# We need to exclude the last arrival time since np.diff reduces the array length by 1\n",
    "time_intervals = arrival_times[:-1]\n",
    "\n",
    "plt.subplot(1, 2, 2)\n",
    "plt.plot(time_intervals, spin_periods, 'r.')\n",
    "plt.xlabel('Time (s)')\n",
    "plt.ylabel('Spin Period (s)')\n",
    "plt.title('Spin Period vs. Time for Crab Pulsar (LAXPC)')\n",
    "\n",
    "plt.tight_layout()\n",
    "plt.show()"
   ]
  },
  {
   "cell_type": "markdown",
   "id": "70073341-c43a-4e17-98a5-a8c862cb3401",
   "metadata": {
    "scrolled": true
   },
   "source": [
    "<b>Graph 1: Spin Period vs. Pulse Number</b><br>\n",
    "Plot Description:<br>\n",
    "\n",
    "X-axis: Pulse Number (index of each spin period in the sequence).<br>\n",
    "Y-axis: Spin Period (time between consecutive pulses, in seconds).<br><br>\n",
    "<b>Interpretation:</b><br>\n",
    "\n",
    "<b>This plot shows how the spin period changes with each successive pulse.\n",
    "If the pulsar is spinning down (i.e., its spin rate is decreasing), you might observe a trend where the spin periods gradually increase.\n",
    "Any irregularities or significant deviations could indicate noise, observational errors, or interesting astrophysical phenomena such as glitches (sudden changes in spin period).</b>\n",
    "\n",
    "<b style=\"color:blue\">Since this is a single dataset we can't see a significant spin down rate. For effective results we need more data or we can simple predict future spin down rate on the basis of this data only and then we can match it by analysing year long dataset.</b>\n",
    "<br><br>\n",
    "<b>Graph 2: Spin Period vs. Time</b><br>\n",
    "Plot Description:<br>\n",
    "\n",
    "X-axis: Time (seconds since the start of the observation or another reference point).<br>\n",
    "Y-axis: Spin Period (time between consecutive pulses, in seconds).<br><br>\n",
    "<b>Interpretation:</b><br>\n",
    "\n",
    "<b>This plot shows how the spin period changes over the actual observation time.\n",
    "A clear increasing trend in the spin periods over time indicates that the pulsar is gradually slowing down.\n",
    "This plot can also help identify long-term trends and any short-term variations in the pulsar's spin period.</b><br><br>\n",
    "<i>Detailed Insights</i><br><br>\n",
    "Spin-Down Rate:<br>\n",
    "\n",
    "Graph 2 is particularly useful for calculating the spin-down rate, which is the rate at which the pulsar's rotation slows down over time. This can be done by fitting a linear or polynomial model to the data in this plot.<br><br>\n",
    "Periodic Variations:\n",
    "\n",
    "Both graphs can reveal periodic variations in the spin period, which might be related to intrinsic properties of the pulsar or external influences.<br><br>\n",
    "Glitches:\n",
    "\n",
    "Pulsars sometimes exhibit glitches, which are sudden increases in spin frequency (decreases in spin period). These would appear as sharp dips in the spin period in both plots.\n",
    "\n"
   ]
  },
  {
   "cell_type": "code",
   "execution_count": null,
   "id": "6f0d43b9-fdb8-43ae-83d8-69e83f71bbf3",
   "metadata": {},
   "outputs": [],
   "source": [
    "from scipy.optimize import curve_fit\n",
    "\n",
    "# Define a linear function for fitting\n",
    "def linear_fit(x, a, b):\n",
    "    return a * x + b\n",
    "\n",
    "# Perform the curve fitting\n",
    "params, covariance = curve_fit(linear_fit, time_intervals, spin_periods)\n",
    "\n",
    "# Extract the parameters\n",
    "spin_down_rate_per_sec = params[0]  # a in the linear equation y = a * x + b\n",
    "\n",
    "# Print the spin-down rate\n",
    "print(f\"Estimated Spin-Down Rate: {spin_down_rate_per_sec} seconds per second\")\n",
    "\n",
    "seconds_per_minute = 60\n",
    "minutes_per_hour = 60\n",
    "hours_per_day = 24\n",
    "days_per_year = 365\n",
    "\n",
    "# Calculate the conversion\n",
    "spin_down_rate_per_year_sec = spin_down_rate_per_sec * seconds_per_minute * minutes_per_hour * hours_per_day * days_per_year\n",
    "spin_down_rate_per_year = spin_down_rate_per_year_sec / 60\n",
    "spin_down_rate_per_year_hr = spin_down_rate_per_year / 60 \n",
    "\n",
    "\n",
    "# Plot the data and the fitted model\n",
    "plt.plot(time_intervals, spin_periods, 'r.', label='Data')\n",
    "plt.plot(time_intervals, linear_fit(time_intervals, *params), 'b-', label='Fitted Model')\n",
    "plt.xlabel('Time (s)')\n",
    "plt.ylabel('Spin Period (s)')\n",
    "plt.title('Spin Period vs. Time with Fitted Model')\n",
    "plt.legend()\n",
    "plt.show()\n",
    "\n",
    "# Print the result\n",
    "print(f\"Estimated Spin-Down Rate: {spin_down_rate_per_year} minutes per year\")\n",
    "\n",
    "print(f\"Estimated Spin-Down Rate: {spin_down_rate_per_year_hr} hours per year\")\n"
   ]
  },
  {
   "cell_type": "markdown",
   "id": "52c0e99e-3190-4d43-bc9e-92753fa7d9c3",
   "metadata": {},
   "source": [
    "<small>One the basis of a datasets we peridicted that the Crab Nebula is slowing by <b style=\"color:blue\">2.18 hours per years</b>, to verify it we will take a year long datasets soon, and will be uploaded on github.</small>"
   ]
  },
  {
   "cell_type": "markdown",
   "id": "1acef2d7-120d-4899-8fcd-e50fb3d80ed8",
   "metadata": {},
   "source": [
    "# THE END \n",
    "###### <b>Ping astrodingra@gmail.com or astrodingra@icloud.com or dm on instagram [@astrodingra](https://wwww.instagram.com/astrodingra) for any quieries </b>"
   ]
  }
 ],
 "metadata": {
  "kernelspec": {
   "display_name": "Python 3 (ipykernel)",
   "language": "python",
   "name": "python3"
  },
  "language_info": {
   "codemirror_mode": {
    "name": "ipython",
    "version": 3
   },
   "file_extension": ".py",
   "mimetype": "text/x-python",
   "name": "python",
   "nbconvert_exporter": "python",
   "pygments_lexer": "ipython3",
   "version": "3.11.5"
  }
 },
 "nbformat": 4,
 "nbformat_minor": 5
}
